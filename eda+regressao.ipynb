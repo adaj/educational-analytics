{
 "cells": [
  {
   "cell_type": "code",
   "execution_count": 1,
   "metadata": {},
   "outputs": [],
   "source": [
    "import pandas as pd\n",
    "import numpy as np\n",
    "import matplotlib.pyplot as plt\n",
    "import seaborn as sns\n",
    "import shapely\n",
    "import geopandas as gpd\n",
    "folder = '/home/adelsondias/Repos/educational-analytics/data/'"
   ]
  },
  {
   "cell_type": "code",
   "execution_count": 2,
   "metadata": {},
   "outputs": [
    {
     "data": {
      "text/html": [
       "<div>\n",
       "<style scoped>\n",
       "    .dataframe tbody tr th:only-of-type {\n",
       "        vertical-align: middle;\n",
       "    }\n",
       "\n",
       "    .dataframe tbody tr th {\n",
       "        vertical-align: top;\n",
       "    }\n",
       "\n",
       "    .dataframe thead th {\n",
       "        text-align: right;\n",
       "    }\n",
       "</style>\n",
       "<table border=\"1\" class=\"dataframe\">\n",
       "  <thead>\n",
       "    <tr style=\"text-align: right;\">\n",
       "      <th></th>\n",
       "      <th>ID</th>\n",
       "      <th>direc</th>\n",
       "      <th>municipio</th>\n",
       "      <th>escola</th>\n",
       "      <th>etapa</th>\n",
       "      <th>serie</th>\n",
       "      <th>turno</th>\n",
       "      <th>turma</th>\n",
       "      <th>disciplina</th>\n",
       "      <th>frequencia</th>\n",
       "      <th>media_final</th>\n",
       "      <th>situacao</th>\n",
       "      <th>latitude</th>\n",
       "      <th>longitude</th>\n",
       "      <th>geometry</th>\n",
       "    </tr>\n",
       "  </thead>\n",
       "  <tbody>\n",
       "    <tr>\n",
       "      <th>0</th>\n",
       "      <td>9599</td>\n",
       "      <td>01ª DIREC - NATAL</td>\n",
       "      <td>NATAL</td>\n",
       "      <td>CE ALFERES TIRADENTES</td>\n",
       "      <td>ENSINO FUNDAMENTAL - ANOS FINAIS</td>\n",
       "      <td>6º ANO</td>\n",
       "      <td>MATUTINO</td>\n",
       "      <td>EFAFM6A</td>\n",
       "      <td>Língua Portuguesa</td>\n",
       "      <td>92.5</td>\n",
       "      <td>6.9</td>\n",
       "      <td>APROVADO</td>\n",
       "      <td>-5.885477</td>\n",
       "      <td>-35.168400</td>\n",
       "      <td>POINT (-35.16840029999999 -5.885477)</td>\n",
       "    </tr>\n",
       "    <tr>\n",
       "      <th>1</th>\n",
       "      <td>9595</td>\n",
       "      <td>01ª DIREC - NATAL</td>\n",
       "      <td>NATAL</td>\n",
       "      <td>CE ALFERES TIRADENTES</td>\n",
       "      <td>ENSINO FUNDAMENTAL - ANOS FINAIS</td>\n",
       "      <td>6º ANO</td>\n",
       "      <td>MATUTINO</td>\n",
       "      <td>EFAFM6A</td>\n",
       "      <td>Língua Portuguesa</td>\n",
       "      <td>100.0</td>\n",
       "      <td>6.6</td>\n",
       "      <td>APROVADO</td>\n",
       "      <td>-5.739230</td>\n",
       "      <td>-35.243496</td>\n",
       "      <td>POINT (-35.2434962 -5.739229900000001)</td>\n",
       "    </tr>\n",
       "    <tr>\n",
       "      <th>2</th>\n",
       "      <td>9606</td>\n",
       "      <td>01ª DIREC - NATAL</td>\n",
       "      <td>NATAL</td>\n",
       "      <td>CE ALFERES TIRADENTES</td>\n",
       "      <td>ENSINO FUNDAMENTAL - ANOS FINAIS</td>\n",
       "      <td>6º ANO</td>\n",
       "      <td>MATUTINO</td>\n",
       "      <td>EFAFM6A</td>\n",
       "      <td>Língua Portuguesa</td>\n",
       "      <td>100.0</td>\n",
       "      <td>6.1</td>\n",
       "      <td>APROVADO</td>\n",
       "      <td>-5.736580</td>\n",
       "      <td>-35.242956</td>\n",
       "      <td>POINT (-35.2429557 -5.7365805)</td>\n",
       "    </tr>\n",
       "    <tr>\n",
       "      <th>3</th>\n",
       "      <td>93948</td>\n",
       "      <td>01ª DIREC - NATAL</td>\n",
       "      <td>NATAL</td>\n",
       "      <td>CE ALFERES TIRADENTES</td>\n",
       "      <td>ENSINO FUNDAMENTAL - ANOS FINAIS</td>\n",
       "      <td>6º ANO</td>\n",
       "      <td>MATUTINO</td>\n",
       "      <td>EFAFM6A</td>\n",
       "      <td>Língua Portuguesa</td>\n",
       "      <td>100.0</td>\n",
       "      <td>7.6</td>\n",
       "      <td>APROVADO</td>\n",
       "      <td>-5.742527</td>\n",
       "      <td>-35.242607</td>\n",
       "      <td>POINT (-35.242607 -5.742527099999999)</td>\n",
       "    </tr>\n",
       "    <tr>\n",
       "      <th>4</th>\n",
       "      <td>9582</td>\n",
       "      <td>01ª DIREC - NATAL</td>\n",
       "      <td>NATAL</td>\n",
       "      <td>CE ALFERES TIRADENTES</td>\n",
       "      <td>ENSINO FUNDAMENTAL - ANOS FINAIS</td>\n",
       "      <td>6º ANO</td>\n",
       "      <td>MATUTINO</td>\n",
       "      <td>EFAFM6A</td>\n",
       "      <td>Língua Portuguesa</td>\n",
       "      <td>100.0</td>\n",
       "      <td>7.1</td>\n",
       "      <td>APROVADO</td>\n",
       "      <td>-5.742393</td>\n",
       "      <td>-35.244102</td>\n",
       "      <td>POINT (-35.2441023 -5.742393)</td>\n",
       "    </tr>\n",
       "  </tbody>\n",
       "</table>\n",
       "</div>"
      ],
      "text/plain": [
       "      ID              direc municipio                 escola  \\\n",
       "0   9599  01ª DIREC - NATAL     NATAL  CE ALFERES TIRADENTES   \n",
       "1   9595  01ª DIREC - NATAL     NATAL  CE ALFERES TIRADENTES   \n",
       "2   9606  01ª DIREC - NATAL     NATAL  CE ALFERES TIRADENTES   \n",
       "3  93948  01ª DIREC - NATAL     NATAL  CE ALFERES TIRADENTES   \n",
       "4   9582  01ª DIREC - NATAL     NATAL  CE ALFERES TIRADENTES   \n",
       "\n",
       "                              etapa   serie     turno    turma  \\\n",
       "0  ENSINO FUNDAMENTAL - ANOS FINAIS  6º ANO  MATUTINO  EFAFM6A   \n",
       "1  ENSINO FUNDAMENTAL - ANOS FINAIS  6º ANO  MATUTINO  EFAFM6A   \n",
       "2  ENSINO FUNDAMENTAL - ANOS FINAIS  6º ANO  MATUTINO  EFAFM6A   \n",
       "3  ENSINO FUNDAMENTAL - ANOS FINAIS  6º ANO  MATUTINO  EFAFM6A   \n",
       "4  ENSINO FUNDAMENTAL - ANOS FINAIS  6º ANO  MATUTINO  EFAFM6A   \n",
       "\n",
       "          disciplina  frequencia  media_final  situacao  latitude  longitude  \\\n",
       "0  Língua Portuguesa        92.5          6.9  APROVADO -5.885477 -35.168400   \n",
       "1  Língua Portuguesa       100.0          6.6  APROVADO -5.739230 -35.243496   \n",
       "2  Língua Portuguesa       100.0          6.1  APROVADO -5.736580 -35.242956   \n",
       "3  Língua Portuguesa       100.0          7.6  APROVADO -5.742527 -35.242607   \n",
       "4  Língua Portuguesa       100.0          7.1  APROVADO -5.742393 -35.244102   \n",
       "\n",
       "                                 geometry  \n",
       "0    POINT (-35.16840029999999 -5.885477)  \n",
       "1  POINT (-35.2434962 -5.739229900000001)  \n",
       "2          POINT (-35.2429557 -5.7365805)  \n",
       "3   POINT (-35.242607 -5.742527099999999)  \n",
       "4           POINT (-35.2441023 -5.742393)  "
      ]
     },
     "execution_count": 2,
     "metadata": {},
     "output_type": "execute_result"
    }
   ],
   "source": [
    "alunos = pd.read_csv(folder+'alunos.csv')\n",
    "alunos['serie'] = alunos['serie'].apply(lambda x: x.upper())\n",
    "alunos = alunos.loc[alunos['etapa'].isin(alunos['etapa'].value_counts()[:5].index)]\n",
    "alunos['etapa'] = alunos['etapa'].replace({'CEJA ENSINO MEDIO': 'EJA - ENSINO MÉDIO'})\n",
    "alunos['serie'] = alunos['serie'].replace({'2º PERÍODO (2ª SÉRIE)':'2ª SÉRIE',\n",
    " '3º PERÍODO (3ª SÉRIE)':'3ª SÉRIE',\n",
    " '1º PERÍODO (1ª SÉRIE)':'1ª SÉRIE'                                 \n",
    "})\n",
    "alunos['geometry'] = alunos.apply(lambda x: shapely.geometry.Point([x['longitude'],x['latitude']]), axis=1)\n",
    "alunos = gpd.GeoDataFrame(alunos)\n",
    "alunos.head()"
   ]
  },
  {
   "cell_type": "code",
   "execution_count": 3,
   "metadata": {},
   "outputs": [
    {
     "name": "stdout",
     "output_type": "stream",
     "text": [
      "Warning: CRS does not match!\n"
     ]
    },
    {
     "data": {
      "text/plain": [
       "<matplotlib.axes._subplots.AxesSubplot at 0x7f4bdc1f7fd0>"
      ]
     },
     "execution_count": 3,
     "metadata": {},
     "output_type": "execute_result"
    },
    {
     "data": {
      "image/png": "[encoded data removed]",
      "text/plain": [
       "<matplotlib.figure.Figure at 0x7f4bdac366d8>"
      ]
     },
     "metadata": {
      "needs_background": "light"
     },
     "output_type": "display_data"
    }
   ],
   "source": [
    "bairros = gpd.read_file(folder+'bairros_natal_populacao2016.geojson')\n",
    "ab = gpd.sjoin(alunos, bairros, op='within')\n",
    "\n",
    "fig, ax = plt.subplots(figsize=(4,6))\n",
    "bairros.plot(ax=ax, color='white', edgecolor='black')\n",
    "ab.plot(ax=ax)"
   ]
  },
  {
   "cell_type": "code",
   "execution_count": 19,
   "metadata": {},
   "outputs": [
    {
     "data": {
      "image/png": "[encoded data removed]",
      "text/plain": [
       "<matplotlib.figure.Figure at 0x7f4bd56f7748>"
      ]
     },
     "metadata": {
      "needs_background": "light"
     },
     "output_type": "display_data"
    }
   ],
   "source": [
    "plt.rcParams['mathtext.fontset'] = 'stix'\n",
    "plt.rcParams['font.family'] = 'STIXGeneral'\n",
    "fig, ax = plt.subplots(figsize=(6,6))\n",
    "sns.countplot(y='serie', data=alunos, ax=ax, order=[ \n",
    "                                             '1º ANO', '2º ANO', '3º ANO', '4º ANO', '5º ANO', \n",
    "                                             '6º ANO', '7º ANO', '8º ANO', '9º ANO',\n",
    "                                             '1ª SÉRIE', '2ª SÉRIE', '3ª SÉRIE', 'BLOCO A', 'BLOCO B'], palette='Spectral_r')\n",
    "ax.xaxis.set_tick_params(labelsize=14)\n",
    "ax.yaxis.set_tick_params(labelsize=14)\n",
    "ax.set_ylabel('Série',fontsize=18)\n",
    "ax.set_xlabel('Número de alunos (2018)',fontsize=18)\n",
    "plt.savefig(folder+'../plots/count_serie.pdf',dpi=200)"
   ]
  },
  {
   "cell_type": "code",
   "execution_count": 22,
   "metadata": {},
   "outputs": [
    {
     "name": "stderr",
     "output_type": "stream",
     "text": [
      "/usr/local/lib/python3.6/dist-packages/ipykernel_launcher.py:8: SettingWithCopyWarning: \n",
      "A value is trying to be set on a copy of a slice from a DataFrame.\n",
      "Try using .loc[row_indexer,col_indexer] = value instead\n",
      "\n",
      "See the caveats in the documentation: http://pandas.pydata.org/pandas-docs/stable/indexing.html#indexing-view-versus-copy\n",
      "  \n"
     ]
    },
    {
     "data": {
      "text/html": [
       "<div>\n",
       "<style scoped>\n",
       "    .dataframe tbody tr th:only-of-type {\n",
       "        vertical-align: middle;\n",
       "    }\n",
       "\n",
       "    .dataframe tbody tr th {\n",
       "        vertical-align: top;\n",
       "    }\n",
       "\n",
       "    .dataframe thead th {\n",
       "        text-align: right;\n",
       "    }\n",
       "</style>\n",
       "<table border=\"1\" class=\"dataframe\">\n",
       "  <thead>\n",
       "    <tr style=\"text-align: right;\">\n",
       "      <th></th>\n",
       "      <th>serie</th>\n",
       "      <th>turno</th>\n",
       "      <th>disciplina</th>\n",
       "      <th>frequencia</th>\n",
       "      <th>BAIRRO</th>\n",
       "      <th>REG_ADM</th>\n",
       "      <th>densidade2016</th>\n",
       "    </tr>\n",
       "  </thead>\n",
       "  <tbody>\n",
       "    <tr>\n",
       "      <th>0</th>\n",
       "      <td>5</td>\n",
       "      <td>1</td>\n",
       "      <td>0</td>\n",
       "      <td>92.5</td>\n",
       "      <td>26</td>\n",
       "      <td>3</td>\n",
       "      <td>18.24</td>\n",
       "    </tr>\n",
       "    <tr>\n",
       "      <th>33</th>\n",
       "      <td>5</td>\n",
       "      <td>1</td>\n",
       "      <td>1</td>\n",
       "      <td>96.8</td>\n",
       "      <td>26</td>\n",
       "      <td>3</td>\n",
       "      <td>18.24</td>\n",
       "    </tr>\n",
       "    <tr>\n",
       "      <th>204</th>\n",
       "      <td>6</td>\n",
       "      <td>1</td>\n",
       "      <td>0</td>\n",
       "      <td>63.4</td>\n",
       "      <td>26</td>\n",
       "      <td>3</td>\n",
       "      <td>18.24</td>\n",
       "    </tr>\n",
       "    <tr>\n",
       "      <th>224</th>\n",
       "      <td>6</td>\n",
       "      <td>1</td>\n",
       "      <td>1</td>\n",
       "      <td>69.2</td>\n",
       "      <td>26</td>\n",
       "      <td>3</td>\n",
       "      <td>18.24</td>\n",
       "    </tr>\n",
       "    <tr>\n",
       "      <th>267</th>\n",
       "      <td>7</td>\n",
       "      <td>1</td>\n",
       "      <td>0</td>\n",
       "      <td>100.0</td>\n",
       "      <td>26</td>\n",
       "      <td>3</td>\n",
       "      <td>18.24</td>\n",
       "    </tr>\n",
       "  </tbody>\n",
       "</table>\n",
       "</div>"
      ],
      "text/plain": [
       "     serie  turno  disciplina  frequencia  BAIRRO  REG_ADM  densidade2016\n",
       "0        5      1           0        92.5      26        3          18.24\n",
       "33       5      1           1        96.8      26        3          18.24\n",
       "204      6      1           0        63.4      26        3          18.24\n",
       "224      6      1           1        69.2      26        3          18.24\n",
       "267      7      1           0       100.0      26        3          18.24"
      ]
     },
     "execution_count": 22,
     "metadata": {},
     "output_type": "execute_result"
    }
   ],
   "source": [
    "from sklearn.preprocessing import LabelEncoder\n",
    "\n",
    "ab = ab.dropna()\n",
    "X = ab[['serie','turno','disciplina','frequencia','BAIRRO','REG_ADM','densidade2016']]\n",
    "y = ab['media_final']\n",
    "\n",
    "for feature in ['serie', 'turno', 'disciplina','BAIRRO','REG_ADM']:\n",
    "    X[feature] = LabelEncoder().fit_transform(X[feature])\n",
    "X.head()"
   ]
  },
  {
   "cell_type": "code",
   "execution_count": 24,
   "metadata": {},
   "outputs": [
    {
     "name": "stdout",
     "output_type": "stream",
     "text": [
      "Erro médio: 2.3081887162081274\n"
     ]
    },
    {
     "data": {
      "text/plain": [
       "GradientBoostingRegressor(alpha=0.9, criterion='friedman_mse', init=None,\n",
       "             learning_rate=0.1, loss='ls', max_depth=4, max_features=0.8,\n",
       "             max_leaf_nodes=None, min_impurity_decrease=0.0,\n",
       "             min_impurity_split=None, min_samples_leaf=1,\n",
       "             min_samples_split=2, min_weight_fraction_leaf=0.0,\n",
       "             n_estimators=100, n_iter_no_change=None, presort='auto',\n",
       "             random_state=None, subsample=1.0, tol=0.0001,\n",
       "             validation_fraction=0.1, verbose=0, warm_start=False)"
      ]
     },
     "execution_count": 24,
     "metadata": {},
     "output_type": "execute_result"
    }
   ],
   "source": [
    "pgrid = {\n",
    "    'n_estimators': [100, 500],\n",
    "    'max_depth':[4, 7],\n",
    "    'max_features':[0.8, 1]\n",
    "}\n",
    "\n",
    "from sklearn.model_selection import GridSearchCV\n",
    "from sklearn.ensemble import RandomForestRegressor, GradientBoostingRegressor\n",
    "gs = GridSearchCV(GradientBoostingRegressor(), param_grid=pgrid, cv=5, n_jobs=-1, scoring='neg_mean_squared_error')\n",
    "gs.fit(X,y)\n",
    "print('Erro médio:', np.sqrt(-gs.best_score_))\n",
    "gs.best_estimator_"
   ]
  },
  {
   "cell_type": "code",
   "execution_count": 25,
   "metadata": {},
   "outputs": [
    {
     "data": {
      "image/png": "[encoded data removed]",
      "text/plain": [
       "<matplotlib.figure.Figure at 0x7f4bd55b6e80>"
      ]
     },
     "metadata": {
      "needs_background": "light"
     },
     "output_type": "display_data"
    }
   ],
   "source": [
    "fimp = pd.DataFrame()\n",
    "fimp['feature'] = X.columns\n",
    "fimp['importance'] = gs.best_estimator_.feature_importances_\n",
    "\n",
    "fig, ax = plt.subplots(figsize=(6,6))\n",
    "sns.barplot(x='importance', y='feature', ax=ax, data=fimp.sort_values('importance',ascending=False),palette='Spectral')\n",
    "ax.xaxis.set_tick_params(labelsize=14)\n",
    "ax.yaxis.set_tick_params(labelsize=14)\n",
    "ax.set_ylabel('Feature',fontsize=18)\n",
    "ax.set_xlabel('Importance',fontsize=18)\n",
    "plt.savefig(folder+'../plots/gb_feature_importance.pdf',dpi=200)"
   ]
  }
 ],
 "metadata": {
  "kernelspec": {
   "display_name": "Python 3",
   "language": "python",
   "name": "python3"
  },
  "language_info": {
   "codemirror_mode": {
    "name": "ipython",
    "version": 3
   },
   "file_extension": ".py",
   "mimetype": "text/x-python",
   "name": "python",
   "nbconvert_exporter": "python",
   "pygments_lexer": "ipython3",
   "version": "3.6.7"
  }
 },
 "nbformat": 4,
 "nbformat_minor": 2
}
